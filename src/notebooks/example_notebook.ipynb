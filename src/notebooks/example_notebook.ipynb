{
 "cells": [
  {
   "cell_type": "code",
   "execution_count": null,
   "id": "728877e2-3ced-45dc-b7cf-7cd4cb55f711",
   "metadata": {},
   "outputs": [],
   "source": [
    "import sys\n",
    "import pathlib\n",
    "p = pathlib.Path(\"..\").resolve().as_posix()\n",
    "if p not in sys.path:\n",
    "    sys.path.append(p)"
   ]
  },
  {
   "cell_type": "code",
   "execution_count": null,
   "id": "fbbacb33-a497-4d97-b4bb-3ff7ab6c61ea",
   "metadata": {},
   "outputs": [],
   "source": [
    "from jupyter_env import *\n",
    "from example_code import *"
   ]
  },
  {
   "cell_type": "code",
   "execution_count": null,
   "id": "0d6b84e2-1d4c-4165-8a38-ac1da3c6da1d",
   "metadata": {},
   "outputs": [],
   "source": [
    "%load_ext autoreload\n",
    "%autoreload 2"
   ]
  },
  {
   "cell_type": "markdown",
   "id": "8e85ad56-9da8-4ecb-850c-bbc8e0f57b9d",
   "metadata": {},
   "source": [
    "# Read reference piping extract"
   ]
  },
  {
   "cell_type": "code",
   "execution_count": null,
   "id": "21de0f07-eaf6-4c81-a23b-a33d5158ee77",
   "metadata": {},
   "outputs": [],
   "source": [
    "display(Markdown(\"../../doc/example.md\"))"
   ]
  }
 ],
 "metadata": {
  "kernelspec": {
   "display_name": "Python 3 (ipykernel)",
   "language": "python",
   "name": "python3"
  },
  "language_info": {
   "codemirror_mode": {
    "name": "ipython",
    "version": 3
   },
   "file_extension": ".py",
   "mimetype": "text/x-python",
   "name": "python",
   "nbconvert_exporter": "python",
   "pygments_lexer": "ipython3",
   "version": "3.9.13"
  }
 },
 "nbformat": 4,
 "nbformat_minor": 5
}
